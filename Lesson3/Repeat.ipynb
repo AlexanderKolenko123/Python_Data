{
 "cells": [
  {
   "cell_type": "code",
   "execution_count": 1,
   "id": "f464943f",
   "metadata": {},
   "outputs": [],
   "source": [
    "#1.Создать одномерный массив Numpy под названием a из 12 последовательных целых чисел чисел от 12 до 24 невключительно"
   ]
  },
  {
   "cell_type": "code",
   "execution_count": 14,
   "id": "355299d2",
   "metadata": {},
   "outputs": [
    {
     "name": "stdout",
     "output_type": "stream",
     "text": [
      "[12 13 14 15 16 17 18 19 20 21 22 23]\n"
     ]
    }
   ],
   "source": [
    "import numpy as np\n",
    "a = np.arange(12, 24)\n",
    "print(a)"
   ]
  },
  {
   "cell_type": "code",
   "execution_count": 26,
   "id": "e151123f",
   "metadata": {},
   "outputs": [],
   "source": [
    "#2. Создать 5 двумерных массивов разной формы из массива a. Не использовать в аргументах метода reshape число -1."
   ]
  },
  {
   "cell_type": "code",
   "execution_count": 29,
   "id": "723bd708",
   "metadata": {},
   "outputs": [
    {
     "name": "stdout",
     "output_type": "stream",
     "text": [
      "[[12 13]\n",
      " [14 15]\n",
      " [16 17]\n",
      " [18 19]\n",
      " [20 21]\n",
      " [22 23]]\n",
      "[[12 13 14 15 16 17]\n",
      " [18 19 20 21 22 23]]\n",
      "[[12 13 14 15]\n",
      " [16 17 18 19]\n",
      " [20 21 22 23]]\n",
      "[[12 13 14]\n",
      " [15 16 17]\n",
      " [18 19 20]\n",
      " [21 22 23]]\n",
      "[[12]\n",
      " [13]\n",
      " [14]\n",
      " [15]\n",
      " [16]\n",
      " [17]\n",
      " [18]\n",
      " [19]\n",
      " [20]\n",
      " [21]\n",
      " [22]\n",
      " [23]]\n"
     ]
    }
   ],
   "source": [
    "a1 = a.reshape(6, 2)\n",
    "print(a1)\n",
    "a2 = a.reshape(2, 6)\n",
    "print(a2)\n",
    "a3 = a.reshape(3, 4)\n",
    "print(a3)\n",
    "a4 = a.reshape(4, 3)\n",
    "print(a4)\n",
    "a5 = a.reshape(12, 1)\n",
    "print(a5)"
   ]
  },
  {
   "cell_type": "code",
   "execution_count": 3,
   "id": "bba57248",
   "metadata": {},
   "outputs": [],
   "source": [
    "#3. Создать 5 двумерных массивов разной формы из массива a. Использовать в аргументах метода reshape число -1 (в трех примерах - для обозначения числа столбцов, в двух - для строк)."
   ]
  },
  {
   "cell_type": "code",
   "execution_count": 30,
   "id": "a0327990",
   "metadata": {},
   "outputs": [
    {
     "name": "stdout",
     "output_type": "stream",
     "text": [
      "[[12 13 14]\n",
      " [15 16 17]\n",
      " [18 19 20]\n",
      " [21 22 23]]\n",
      "[[12 13 14]\n",
      " [15 16 17]\n",
      " [18 19 20]\n",
      " [21 22 23]]\n",
      "[[12]\n",
      " [13]\n",
      " [14]\n",
      " [15]\n",
      " [16]\n",
      " [17]\n",
      " [18]\n",
      " [19]\n",
      " [20]\n",
      " [21]\n",
      " [22]\n",
      " [23]]\n",
      "[[12 13 14 15]\n",
      " [16 17 18 19]\n",
      " [20 21 22 23]]\n",
      "[[12 13]\n",
      " [14 15]\n",
      " [16 17]\n",
      " [18 19]\n",
      " [20 21]\n",
      " [22 23]]\n"
     ]
    }
   ],
   "source": [
    "a1 = a.reshape(-1, 3)\n",
    "print(a1)\n",
    "a2 = a.reshape(4, -1)\n",
    "print(a2)\n",
    "a3 = a.reshape(12, -1)\n",
    "print(a3)\n",
    "a4 = np.reshape(a, (-1, 4))\n",
    "print(a4)\n",
    "a5 = np.reshape(a, (-1, 2))\n",
    "print(a5)"
   ]
  },
  {
   "cell_type": "code",
   "execution_count": 4,
   "id": "ebbf4a0a",
   "metadata": {},
   "outputs": [],
   "source": [
    "#4. Можно ли массив Numpy, состоящий из одного столбца и 12 строк, назвать одномерным?"
   ]
  },
  {
   "cell_type": "code",
   "execution_count": 33,
   "id": "5c0df0fc",
   "metadata": {},
   "outputs": [
    {
     "data": {
      "text/plain": [
       "2"
      ]
     },
     "execution_count": 33,
     "metadata": {},
     "output_type": "execute_result"
    }
   ],
   "source": [
    "a0 = a.reshape(12, 1)\n",
    "a0.ndim\n",
    "# Нет"
   ]
  },
  {
   "cell_type": "code",
   "execution_count": 5,
   "id": "d211769d",
   "metadata": {},
   "outputs": [],
   "source": [
    "#5. Создать массив из 3 строк и 4 столбцов, состоящий из случайных чисел с плавающей запятой из нормального распределения со средним, равным 0 и среднеквадратичным отклонением, равным 1.0. Получить из этого массива одномерный массив с таким же атрибутом size, как и исходный массив."
   ]
  },
  {
   "cell_type": "code",
   "execution_count": 35,
   "id": "c5f1ca0a",
   "metadata": {},
   "outputs": [
    {
     "name": "stdout",
     "output_type": "stream",
     "text": [
      "[[-0.05637604 -0.86700167  0.86369072  0.52811201]\n",
      " [ 0.3030618  -0.23613213 -0.43358943 -0.97702326]\n",
      " [ 0.15038945 -0.92389288 -0.83402992 -1.2011414 ]]\n"
     ]
    }
   ],
   "source": [
    "b = np.random.randn(3, 4)\n",
    "print(b)\n"
   ]
  },
  {
   "cell_type": "code",
   "execution_count": 36,
   "id": "3a7edb4e",
   "metadata": {},
   "outputs": [
    {
     "name": "stdout",
     "output_type": "stream",
     "text": [
      "[[-0.05637604 -0.86700167  0.86369072  0.52811201]\n",
      " [ 0.3030618  -0.23613213 -0.43358943 -0.97702326]\n",
      " [ 0.15038945 -0.92389288 -0.83402992 -1.2011414 ]]\n"
     ]
    },
    {
     "data": {
      "text/plain": [
       "True"
      ]
     },
     "execution_count": 36,
     "metadata": {},
     "output_type": "execute_result"
    }
   ],
   "source": [
    "c = b.flatten()\n",
    "print(b)\n",
    "b.size == c.size"
   ]
  },
  {
   "cell_type": "code",
   "execution_count": 6,
   "id": "73e9aa16",
   "metadata": {},
   "outputs": [],
   "source": [
    "#6. Создать массив a, состоящий из целых чисел, убывающих от 20 до 0 невключительно с интервалом 2."
   ]
  },
  {
   "cell_type": "code",
   "execution_count": 37,
   "id": "2f76192b",
   "metadata": {},
   "outputs": [
    {
     "name": "stdout",
     "output_type": "stream",
     "text": [
      "[20 18 16 14 12 10  8  6  4  2]\n"
     ]
    }
   ],
   "source": [
    "a = np.arange(20, 0, -2)\n",
    "print(a)"
   ]
  },
  {
   "cell_type": "code",
   "execution_count": 7,
   "id": "bc89041e",
   "metadata": {},
   "outputs": [],
   "source": [
    "#7. Создать массив b, состоящий из 1 строки и 10 столбцов: целых чисел, убывающих от 20 до 1 невключительно с интервалом 2. В чем разница между массивами a и b?"
   ]
  },
  {
   "cell_type": "code",
   "execution_count": 39,
   "id": "61d660d0",
   "metadata": {},
   "outputs": [
    {
     "name": "stdout",
     "output_type": "stream",
     "text": [
      "[20 18 16 14 12 10  8  6  4  2]\n"
     ]
    }
   ],
   "source": [
    "b = np.arange(20, 1, -2)\n",
    "print(b)"
   ]
  },
  {
   "cell_type": "code",
   "execution_count": 40,
   "id": "9fc004b6",
   "metadata": {},
   "outputs": [
    {
     "data": {
      "text/plain": [
       "True"
      ]
     },
     "execution_count": 40,
     "metadata": {},
     "output_type": "execute_result"
    }
   ],
   "source": [
    "np.array_equal(a, b)"
   ]
  },
  {
   "cell_type": "code",
   "execution_count": 8,
   "id": "f3851801",
   "metadata": {},
   "outputs": [],
   "source": [
    "#8. Вертикально соединить массивы a и b. a - двумерный массив из нулей, число строк которого больше 1 и на 1 меньше, чем число строк двумерного массива b, состоящего из единиц. Итоговый массив v должен иметь атрибут size, равный 10."
   ]
  },
  {
   "cell_type": "code",
   "execution_count": 41,
   "id": "85d4d810",
   "metadata": {},
   "outputs": [],
   "source": [
    "a = np.zeros((3, 2))\n",
    "b = np.ones((2, 2))"
   ]
  },
  {
   "cell_type": "code",
   "execution_count": 42,
   "id": "e86bb09c",
   "metadata": {},
   "outputs": [
    {
     "name": "stdout",
     "output_type": "stream",
     "text": [
      "[[0. 0.]\n",
      " [0. 0.]\n",
      " [0. 0.]\n",
      " [1. 1.]\n",
      " [1. 1.]]\n"
     ]
    },
    {
     "data": {
      "text/plain": [
       "10"
      ]
     },
     "execution_count": 42,
     "metadata": {},
     "output_type": "execute_result"
    }
   ],
   "source": [
    "v = np.concatenate((a, b), axis = 0)\n",
    "print(v)\n",
    "v.size"
   ]
  },
  {
   "cell_type": "code",
   "execution_count": 9,
   "id": "2467878a",
   "metadata": {},
   "outputs": [],
   "source": [
    "#9. Создать одномерный массив а, состоящий из последовательности целых чисел от 0 до 12. Поменять форму этого массива, чтобы получилась матрица A (двумерный массив Numpy), состоящая из 4 строк и 3 столбцов. Получить матрицу At путем транспонирования матрицы A. Получить матрицу B, умножив матрицу A на матрицу At с помощью матричного умножения. Какой размер имеет матрица B? Получится ли вычислить обратную матрицу для матрицы B и почему?"
   ]
  },
  {
   "cell_type": "code",
   "execution_count": 43,
   "id": "ad192107",
   "metadata": {},
   "outputs": [
    {
     "name": "stdout",
     "output_type": "stream",
     "text": [
      "[ 0  1  2  3  4  5  6  7  8  9 10 11]\n"
     ]
    }
   ],
   "source": [
    "a = np.arange(0, 12)\n",
    "print(a)"
   ]
  },
  {
   "cell_type": "code",
   "execution_count": 44,
   "id": "9a3a5c74",
   "metadata": {},
   "outputs": [
    {
     "name": "stdout",
     "output_type": "stream",
     "text": [
      "[[ 0  1  2]\n",
      " [ 3  4  5]\n",
      " [ 6  7  8]\n",
      " [ 9 10 11]]\n"
     ]
    }
   ],
   "source": [
    "A = a.reshape(4, 3)\n",
    "print(A)"
   ]
  },
  {
   "cell_type": "code",
   "execution_count": 45,
   "id": "54dbe7d8",
   "metadata": {},
   "outputs": [
    {
     "name": "stdout",
     "output_type": "stream",
     "text": [
      "[[ 0  3  6  9]\n",
      " [ 1  4  7 10]\n",
      " [ 2  5  8 11]]\n"
     ]
    }
   ],
   "source": [
    "At = A.transpose()\n",
    "print(At)"
   ]
  },
  {
   "cell_type": "code",
   "execution_count": 46,
   "id": "6eed6589",
   "metadata": {},
   "outputs": [
    {
     "name": "stdout",
     "output_type": "stream",
     "text": [
      "[[  5  14  23  32]\n",
      " [ 14  50  86 122]\n",
      " [ 23  86 149 212]\n",
      " [ 32 122 212 302]]\n"
     ]
    },
    {
     "data": {
      "text/plain": [
       "16"
      ]
     },
     "execution_count": 46,
     "metadata": {},
     "output_type": "execute_result"
    }
   ],
   "source": [
    "B = np.dot(A, At)\n",
    "print(B)\n",
    "B.size"
   ]
  },
  {
   "cell_type": "code",
   "execution_count": 10,
   "id": "6085eb94",
   "metadata": {},
   "outputs": [],
   "source": [
    "#10. Инициализируйте генератор случайных числе с помощью объекта seed, равного 42."
   ]
  },
  {
   "cell_type": "code",
   "execution_count": 48,
   "id": "c946c412",
   "metadata": {},
   "outputs": [],
   "source": [
    "np.random.seed(42)"
   ]
  },
  {
   "cell_type": "code",
   "execution_count": 11,
   "id": "3c590d8e",
   "metadata": {},
   "outputs": [],
   "source": [
    "#11. Создайте одномерный массив c, составленный из последовательности 16-ти случайных равномерно распределенных целых чисел от 0 до 16 невключительно. "
   ]
  },
  {
   "cell_type": "code",
   "execution_count": 49,
   "id": "7b66ad6f",
   "metadata": {},
   "outputs": [
    {
     "name": "stdout",
     "output_type": "stream",
     "text": [
      "[ 0  1  2  3  4  5  6  7  8  9 10 11 12 13 14 15]\n"
     ]
    }
   ],
   "source": [
    "a = np.arange(0, 16)\n",
    "print(a)"
   ]
  },
  {
   "cell_type": "code",
   "execution_count": 12,
   "id": "1faf6799",
   "metadata": {},
   "outputs": [],
   "source": [
    "#12. Поменяйте его форму так, чтобы получилась квадратная матрица C. Получите матрицу D, поэлементно прибавив матрицу B из предыдущего вопроса к матрице C, умноженной на 10. Вычислите определитель, ранг и обратную матрицу D_inv для D."
   ]
  },
  {
   "cell_type": "code",
   "execution_count": 50,
   "id": "79a86d6e",
   "metadata": {},
   "outputs": [
    {
     "name": "stdout",
     "output_type": "stream",
     "text": [
      "[[ 0  1  2  3]\n",
      " [ 4  5  6  7]\n",
      " [ 8  9 10 11]\n",
      " [12 13 14 15]]\n"
     ]
    }
   ],
   "source": [
    "C = a.reshape((4, 4))\n",
    "print(C)"
   ]
  },
  {
   "cell_type": "code",
   "execution_count": 51,
   "id": "722b8051",
   "metadata": {},
   "outputs": [
    {
     "name": "stdout",
     "output_type": "stream",
     "text": [
      "[[  5  24  43  62]\n",
      " [ 54 100 146 192]\n",
      " [103 176 249 322]\n",
      " [152 252 352 452]]\n"
     ]
    }
   ],
   "source": [
    "D = 10 * C + B\n",
    "print(D)"
   ]
  },
  {
   "cell_type": "code",
   "execution_count": 53,
   "id": "0615c600",
   "metadata": {},
   "outputs": [
    {
     "data": {
      "text/plain": [
       "5.18953807259442e-26"
      ]
     },
     "execution_count": 53,
     "metadata": {},
     "output_type": "execute_result"
    }
   ],
   "source": [
    "np.linalg.det(D)\n"
   ]
  },
  {
   "cell_type": "code",
   "execution_count": 54,
   "id": "4867abd0",
   "metadata": {},
   "outputs": [
    {
     "name": "stdout",
     "output_type": "stream",
     "text": [
      "[[ 4.66062690e+13 -1.49229688e+13 -1.09972869e+14  7.82895692e+13]\n",
      " [ 1.63480451e+14 -3.81454387e+14  2.72467419e+14 -5.44934838e+13]\n",
      " [-4.66779710e+14  8.07677680e+14 -2.15016230e+14 -1.25881740e+14]\n",
      " [ 2.56692989e+14 -4.11300324e+14  5.25216801e+13  1.02085655e+14]]\n"
     ]
    }
   ],
   "source": [
    "D_inv = np.linalg.inv(D)\n",
    "print(D_inv)"
   ]
  },
  {
   "cell_type": "code",
   "execution_count": 13,
   "id": "c194a6d0",
   "metadata": {},
   "outputs": [],
   "source": [
    "#Приравняйте к нулю отрицательные числа в матрице D_inv, а положительные - к единице. Убедитесь, что в матрице D_inv остались только нули и единицы. С помощью функции numpy.where, используя матрицу D_inv в качестве маски, а матрицы B и C - в качестве источников данных, получите матрицу E размером 4x4.  Элементы матрицы E, для которых соответствующий элемент матрицы D_inv равен 1, должны быть равны соответствующему элементу матрицы B, а элементы матрицы E, для которых соответствующий элемент матрицы D_inv равен 0, должны быть равны соответствующему элементу матрицы C."
   ]
  },
  {
   "cell_type": "code",
   "execution_count": 63,
   "id": "f0aeba1f",
   "metadata": {},
   "outputs": [
    {
     "name": "stdout",
     "output_type": "stream",
     "text": [
      "[[1. 0. 0. 1.]\n",
      " [1. 0. 1. 0.]\n",
      " [0. 1. 0. 0.]\n",
      " [1. 0. 1. 1.]]\n"
     ]
    }
   ],
   "source": [
    "_pos = D_inv > 0\n",
    "_neg = D_inv < 0\n",
    "D_inv[_pos] = 1\n",
    "D_inv[_neg] = 0\n",
    "print(D_inv)"
   ]
  },
  {
   "cell_type": "code",
   "execution_count": 64,
   "id": "a5b2f4fe",
   "metadata": {},
   "outputs": [
    {
     "name": "stdout",
     "output_type": "stream",
     "text": [
      "[[  5   1   2  32]\n",
      " [ 14   5  86   7]\n",
      " [  8  86  10  11]\n",
      " [ 32  13 212 302]]\n"
     ]
    }
   ],
   "source": [
    "E = np.where(D_inv, B, C)\n",
    "print(E)"
   ]
  },
  {
   "cell_type": "code",
   "execution_count": null,
   "id": "ff82ef73",
   "metadata": {},
   "outputs": [],
   "source": []
  }
 ],
 "metadata": {
  "kernelspec": {
   "display_name": "Python 3",
   "language": "python",
   "name": "python3"
  },
  "language_info": {
   "codemirror_mode": {
    "name": "ipython",
    "version": 3
   },
   "file_extension": ".py",
   "mimetype": "text/x-python",
   "name": "python",
   "nbconvert_exporter": "python",
   "pygments_lexer": "ipython3",
   "version": "3.8.8"
  }
 },
 "nbformat": 4,
 "nbformat_minor": 5
}
